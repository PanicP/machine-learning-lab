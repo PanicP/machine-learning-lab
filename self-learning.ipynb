{
 "cells": [
  {
   "cell_type": "code",
   "execution_count": 5,
   "metadata": {},
   "outputs": [
    {
     "data": {
      "text/plain": [
       "array([[1, 2, 3],\n",
       "       [4, 5, 6],\n",
       "       [6, 7, 9]])"
      ]
     },
     "execution_count": 5,
     "metadata": {},
     "output_type": "execute_result"
    }
   ],
   "source": [
    "import numpy as np\n",
    "digits = np.array([\n",
    "    [1, 2, 3],\n",
    "    [4, 5, 6],\n",
    "    [6, 7, 9],\n",
    "])\n",
    "\n",
    "digits\n"
   ]
  },
  {
   "cell_type": "code",
   "execution_count": 7,
   "metadata": {},
   "outputs": [
    {
     "data": {
      "text/plain": [
       "array([ 91.25,  54.25,  83.25, 100.  ,  70.25, 100.  ,  93.25,  31.25])"
      ]
     },
     "execution_count": 7,
     "metadata": {},
     "output_type": "execute_result"
    }
   ],
   "source": [
    "import numpy as np\n",
    "\n",
    "CURVE_CENTER = 80\n",
    "\n",
    "grades = np.array([72, 35, 64, 88, 51, 90, 74, 12])\n",
    "\n",
    "def curve(grades):\n",
    "\n",
    "    average = grades.mean()\n",
    "\n",
    "    change = CURVE_CENTER - average\n",
    "\n",
    "    new_grades = grades + change\n",
    "\n",
    "    return np.clip(new_grades, grades, 100)\n",
    "\n",
    "\n",
    "curve(grades)\n",
    "\n"
   ]
  },
  {
   "cell_type": "code",
   "execution_count": 34,
   "metadata": {},
   "outputs": [
    {
     "data": {
      "text/plain": [
       "array([[[29.3, 42.1, 18.8],\n",
       "        [16.1, 38. , 12.5]],\n",
       "\n",
       "       [[12.6, 49.9, 38.6],\n",
       "        [31.3,  9.2, 22.2]]])"
      ]
     },
     "execution_count": 34,
     "metadata": {},
     "output_type": "execute_result"
    }
   ],
   "source": [
    "import numpy as np\n",
    "\n",
    "temperatures = np.array([\n",
    "    29.3, 42.1, 18.8, 16.1, 38.0, 12.5,\n",
    "    12.6, 49.9, 38.6, 31.3, 9.2, 22.2\n",
    "]).reshape(2, 2, 3)\n",
    "\n",
    "temperatures\n",
    "\n",
    "temperatures.shape\n",
    "\n",
    "temperatures\n",
    "# np.swapaxes(temperatures, 1, 2)\n"
   ]
  },
  {
   "cell_type": "code",
   "execution_count": 36,
   "metadata": {},
   "outputs": [
    {
     "data": {
      "text/plain": [
       "array([5, 6, 7, 9])"
      ]
     },
     "execution_count": 36,
     "metadata": {},
     "output_type": "execute_result"
    }
   ],
   "source": [
    "import numpy as np\n",
    "\n",
    "table = np.array([\n",
    "    [5, 3, 7, 1],\n",
    "    [2, 6, 7 ,9],\n",
    "    [1, 1, 1, 1],\n",
    "    [4, 3, 2, 0],\n",
    "])\n",
    "\n",
    "table.max()\n",
    "\n",
    "\n",
    "table.max(axis=0)\n",
    "\n",
    "\n",
    "# table.max(axis=1)"
   ]
  },
  {
   "cell_type": "code",
   "execution_count": 41,
   "metadata": {},
   "outputs": [
    {
     "data": {
      "text/plain": [
       "(4, 6, 8)"
      ]
     },
     "execution_count": 41,
     "metadata": {},
     "output_type": "execute_result"
    }
   ],
   "source": [
    "import numpy as np\n",
    "\n",
    "A = np.arange(32).reshape(4, 1, 8)\n",
    "\n",
    "B = np.arange(48).reshape(1, 6, 8)\n",
    "\n",
    "(A + B).shape"
   ]
  },
  {
   "cell_type": "code",
   "execution_count": 47,
   "metadata": {},
   "outputs": [
    {
     "data": {
      "text/plain": [
       "array([ 8, 12, 16, 20, 24, 28, 32, 36, 40, 44, 48])"
      ]
     },
     "execution_count": 47,
     "metadata": {},
     "output_type": "execute_result"
    }
   ],
   "source": [
    "import numpy as np\n",
    "\n",
    "numbers = np.linspace(5, 50, 24, dtype=int).reshape(4, -1)\n",
    "\n",
    "numbers\n",
    "\n",
    "mask = numbers % 4 == 0\n",
    "\n",
    "mask\n",
    "\n",
    "numbers[mask]\n",
    "\n",
    "by_four = numbers[numbers % 4 == 0]\n",
    "\n",
    "by_four"
   ]
  }
 ],
 "metadata": {
  "kernelspec": {
   "display_name": "Python 3.11.0 64-bit ('3.11.0')",
   "language": "python",
   "name": "python3"
  },
  "language_info": {
   "codemirror_mode": {
    "name": "ipython",
    "version": 3
   },
   "file_extension": ".py",
   "mimetype": "text/x-python",
   "name": "python",
   "nbconvert_exporter": "python",
   "pygments_lexer": "ipython3",
   "version": "3.11.0"
  },
  "orig_nbformat": 4,
  "vscode": {
   "interpreter": {
    "hash": "0fca71db0846ed8da79651cc37ae136c353db3e2c5a5b78df660c892d8bb501f"
   }
  }
 },
 "nbformat": 4,
 "nbformat_minor": 2
}
