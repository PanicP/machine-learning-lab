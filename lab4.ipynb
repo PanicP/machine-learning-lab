{
 "cells": [
  {
   "cell_type": "markdown",
   "metadata": {},
   "source": [
    "Array creation\n",
    "Useful functions for array creation (look them up): np.arange, np.linspace,\n",
    "np.random.uniform, Python list comprehension. Nested Python lists are con-\n",
    "verted into numpy arrays in row-wise fashion!\n",
    "a) Create a 1D array with entries from 0 to 100 in steps of 2\n",
    "b) Create a 2D array with 3 rows and 3 columns, with row entries 1,1,1...,\n",
    "2,2,2,..., 3,3,3,...\n",
    "c) Create a 2D array with 3 rows and 5 columns that has the value 55 every-\n",
    "where\n",
    "d) Create a 3D tensor with shape (5,4,3) with uniform random entries between\n",
    "0 and 1."
   ]
  },
  {
   "cell_type": "code",
   "execution_count": 3,
   "metadata": {},
   "outputs": [
    {
     "data": {
      "text/plain": [
       "array([  0,   2,   4,   6,   8,  10,  12,  14,  16,  18,  20,  22,  24,\n",
       "        26,  28,  30,  32,  34,  36,  38,  40,  42,  44,  46,  48,  50,\n",
       "        52,  54,  56,  58,  60,  62,  64,  66,  68,  70,  72,  74,  76,\n",
       "        78,  80,  82,  84,  86,  88,  90,  92,  94,  96,  98, 100])"
      ]
     },
     "execution_count": 3,
     "metadata": {},
     "output_type": "execute_result"
    }
   ],
   "source": [
    "import numpy as np\n",
    "\n",
    "a = np.arange(0, 101, 2)  # assume that 100 is included\n",
    "a"
   ]
  },
  {
   "cell_type": "code",
   "execution_count": 8,
   "metadata": {},
   "outputs": [
    {
     "data": {
      "text/plain": [
       "array([[1, 1, 1],\n",
       "       [2, 2, 2],\n",
       "       [3, 3, 3]])"
      ]
     },
     "execution_count": 8,
     "metadata": {},
     "output_type": "execute_result"
    }
   ],
   "source": [
    "# b1) both solutions are equivalent\n",
    "# b = np.array([[1, 1, 1], [2, 2, 2], [3, 3, 3]])\n",
    "b = np.array([1, 1, 1, 2, 2, 2, 3, 3, 3]).reshape(3, 3)\n",
    "b"
   ]
  },
  {
   "cell_type": "code",
   "execution_count": 11,
   "metadata": {},
   "outputs": [
    {
     "data": {
      "text/plain": [
       "array([[ 1.,  1.,  1.,  1.,  1.,  1.,  1.,  1.,  1.,  1.],\n",
       "       [ 2.,  2.,  2.,  2.,  2.,  2.,  2.,  2.,  2.,  2.],\n",
       "       [ 3.,  3.,  3.,  3.,  3.,  3.,  3.,  3.,  3.,  3.],\n",
       "       [ 4.,  4.,  4.,  4.,  4.,  4.,  4.,  4.,  4.,  4.],\n",
       "       [ 5.,  5.,  5.,  5.,  5.,  5.,  5.,  5.,  5.,  5.],\n",
       "       [ 6.,  6.,  6.,  6.,  6.,  6.,  6.,  6.,  6.,  6.],\n",
       "       [ 7.,  7.,  7.,  7.,  7.,  7.,  7.,  7.,  7.,  7.],\n",
       "       [ 8.,  8.,  8.,  8.,  8.,  8.,  8.,  8.,  8.,  8.],\n",
       "       [ 9.,  9.,  9.,  9.,  9.,  9.,  9.,  9.,  9.,  9.],\n",
       "       [10., 10., 10., 10., 10., 10., 10., 10., 10., 10.]])"
      ]
     },
     "execution_count": 11,
     "metadata": {},
     "output_type": "execute_result"
    }
   ],
   "source": [
    "# b2) principled solution for large arrays using broadcasting, 10x10 array\n",
    "# create a 1d vector with entries from 1 to 3 included\n",
    "rowCoeffs = np.arange(1, 11, 1)\n",
    "b2 = np.ones([10, 10]) * rowCoeffs.reshape(10, 1)  # use broadcasting!!\n",
    "b2"
   ]
  },
  {
   "cell_type": "code",
   "execution_count": 13,
   "metadata": {},
   "outputs": [
    {
     "data": {
      "text/plain": [
       "array([[55., 55., 55., 55., 55.],\n",
       "       [55., 55., 55., 55., 55.],\n",
       "       [55., 55., 55., 55., 55.]])"
      ]
     },
     "execution_count": 13,
     "metadata": {},
     "output_type": "execute_result"
    }
   ],
   "source": [
    "# c)\n",
    "c = np.ones([3, 5]) * 55\n",
    "c"
   ]
  },
  {
   "cell_type": "code",
   "execution_count": 14,
   "metadata": {},
   "outputs": [
    {
     "data": {
      "text/plain": [
       "array([[[0.65192383, 0.71507226, 0.12835938],\n",
       "        [0.1724288 , 0.68535694, 0.16237254],\n",
       "        [0.64682395, 0.27556021, 0.76204235],\n",
       "        [0.20485278, 0.5900433 , 0.12694713]],\n",
       "\n",
       "       [[0.25766719, 0.7945664 , 0.05149798],\n",
       "        [0.88676825, 0.04536609, 0.58876992],\n",
       "        [0.14740551, 0.83857857, 0.68842952],\n",
       "        [0.71951952, 0.86334819, 0.93290698]],\n",
       "\n",
       "       [[0.57862749, 0.43060179, 0.84576706],\n",
       "        [0.62616318, 0.09715811, 0.54787897],\n",
       "        [0.96931713, 0.52890099, 0.38700097],\n",
       "        [0.94212389, 0.46507923, 0.68519474]],\n",
       "\n",
       "       [[0.09952078, 0.47892343, 0.88773905],\n",
       "        [0.27810141, 0.50403114, 0.5268803 ],\n",
       "        [0.58036252, 0.56091804, 0.54714327],\n",
       "        [0.09648634, 0.82848265, 0.38619173]],\n",
       "\n",
       "       [[0.90300552, 0.42822846, 0.34992642],\n",
       "        [0.18537155, 0.10543446, 0.13338855],\n",
       "        [0.44603479, 0.4439346 , 0.28843971],\n",
       "        [0.60962236, 0.62833718, 0.3159443 ]]])"
      ]
     },
     "execution_count": 14,
     "metadata": {},
     "output_type": "execute_result"
    }
   ],
   "source": [
    "# d)\n",
    "d = np.random.uniform(0, 1, (5, 4, 3))\n",
    "d\n",
    "d = np.random.uniform(0, 1, 60).reshape(5, 4, 3)\n",
    "d"
   ]
  },
  {
   "cell_type": "markdown",
   "metadata": {},
   "source": [
    "Numpy basics and slicing\n",
    "Assume that the 3D array ’traind’ contains 2000 images of dimension 20x20.\n",
    "You can, e.g., generate it using\n",
    "traind = np.random.uniform(0,255,[2000,20,20]).\n",
    "Give code snippets for the following operations and print out the results for\n",
    "verification:\n",
    "a) Slice out the 1000th sample into an array x and print it!\n",
    "b) Set the 5 topmost and the 5 lowermost columns of sample 1000 to 0\n",
    "c) Print the smallest and highest pixel value in the 10th data sample\n",
    "e) Generate the following variations of the 10th sample and store them in a new\n",
    "variable z:\n",
    "- just keep every 2nd row\n",
    "- just keep every 2nd column\n",
    "- inverse all rows and all columns\n",
    "- invert rows, invert colums, just take every 2th row and every 2th column\n",
    "f ) Apply the in-place transform\n",
    "1 − x\n",
    "to all samples."
   ]
  },
  {
   "cell_type": "code",
   "execution_count": 27,
   "metadata": {},
   "outputs": [
    {
     "data": {
      "text/plain": [
       "254.7499354533534"
      ]
     },
     "execution_count": 27,
     "metadata": {},
     "output_type": "execute_result"
    }
   ],
   "source": [
    "# stack of 2D images of dimensions 20x20\n",
    "traind = np.random.uniform(0, 255, [2000, 20, 20])\n",
    "\n",
    "# a)\n",
    "a = traind[999, :, :]\n",
    "a = traind[999]    # equivalent!\n",
    "a\n",
    "\n",
    "# b) set topmost and lowermost rows to 0\n",
    "# rows\n",
    "a[0:5, :] = 0\n",
    "a[15:, :] = 0\n",
    "\n",
    "a\n",
    "\n",
    "# c)\n",
    "# slice out sample/image nr 10\n",
    "c = traind[9]\n",
    "c.min()\n",
    "c.max()\n",
    "\n",
    "# d)\n",
    "d1 = c[::2, :]  # or c[::2]\n",
    "d2 = c[:, ::2]\n",
    "d3 = c[::-1, ::-1]\n",
    "d4 = c[::-2, ::-2]\n",
    "\n",
    "# f) # in-place\n",
    "traind *= -1\n",
    "traind += 1\n",
    "# BAD: copy created and original array is discarded\n",
    "traind = 1-traind\n"
   ]
  },
  {
   "cell_type": "markdown",
   "metadata": {},
   "source": [
    "Reduction\n",
    "Take the array ‘traind’ from the previous exercise and perform the following\n",
    "transformations. Useful functions: ndarray.mean, ndarray.sum, ndarray.min.\n",
    "a) Compute the pixel sum for pixel 0,0 over all samples\n",
    "b) Compute the pixel mean for pixel 0,0 over all samples\n",
    "c) Compute the image mean over all samples\n",
    "d) Compute the row-wise max over all samples\n",
    "e) Compute the row-wise sum over all samples"
   ]
  },
  {
   "cell_type": "code",
   "execution_count": 34,
   "metadata": {},
   "outputs": [
    {
     "data": {
      "text/plain": [
       "array([[2744.48130584, 2453.08527461, 2236.01541524, ..., 2483.58950394,\n",
       "        2410.34516363, 2455.60924057],\n",
       "       [2225.9109958 , 2669.94889223, 2309.55334436, ..., 2431.38750318,\n",
       "        2165.21961513, 2160.38323796],\n",
       "       [1988.20712079, 2194.51767574, 2105.7256818 , ..., 2356.87151684,\n",
       "        2897.77444741, 2626.78864386],\n",
       "       ...,\n",
       "       [2269.66168894, 2548.37600885, 2413.04474879, ..., 2177.80594943,\n",
       "        2351.17406757, 2471.47158088],\n",
       "       [2399.36892252, 2235.02694373, 2703.21729619, ..., 2347.5178413 ,\n",
       "        2551.10261044, 2573.21561508],\n",
       "       [2743.27824121, 2213.40720826, 2771.68797908, ..., 2502.83792773,\n",
       "        2266.18777985, 2132.10120248]])"
      ]
     },
     "execution_count": 34,
     "metadata": {},
     "output_type": "execute_result"
    }
   ],
   "source": [
    "# stack of 2D images of dimensions 20x20\n",
    "traind = np.random.uniform(0, 255, [2000, 20, 20])\n",
    "# a)\n",
    "a = np.sum(traind[:, 0, 0])\n",
    "# b)\n",
    "b = np.mean(traind[:, 0, 0])\n",
    "# c)\n",
    "c = np.mean(traind, axis=0)\n",
    "# d)\n",
    "d = traind.max(axis=2)\n",
    "# e)\n",
    "e = traind.sum(axis=2)\n",
    "\n",
    "e"
   ]
  },
  {
   "cell_type": "markdown",
   "metadata": {},
   "source": [
    "Broadcasting\n",
    "Using ‘traind’ from ex. 1 and perform the following transformations. np.reshape\n",
    "is useful here to insert extra dimensions of size 1 if needed!\n",
    "a) create a 20-element vector with entries from 1 to 20, and add it to all rows\n",
    "of all samples using broadcasting\n",
    "b) create a 20-element vector with entries from 1 to 20, and add it to all\n",
    "columns of all samples using broadcasting\n",
    "c) add sample 0 to all other samples of ‘traind’."
   ]
  },
  {
   "cell_type": "code",
   "execution_count": 35,
   "metadata": {},
   "outputs": [],
   "source": [
    "# stack of 2D images of dimensions 20x20\n",
    "traind = np.random.uniform(0, 255, [2000, 20, 20])\n",
    "\n",
    "vec = np.arange(1, 21, 1)\n",
    "# a)\n",
    "traind += vec.reshape(1, 1, 20)\n",
    "# b)\n",
    "traind += vec.reshape(1, 20, 1)\n",
    "# c)\n",
    "traind += traind[0].reshape(1, 20, 20)"
   ]
  },
  {
   "cell_type": "markdown",
   "metadata": {},
   "source": [
    "Fancy indexing and mask indexing\n",
    "a) create a 20-element vector with entries from 1 to 20, and copy out all\n",
    "elements that are smaller than 10 using mask indexing!\n",
    "b) create a 20-element vector with entries from 1 to 20, and set elements 1,5\n",
    "and 19 to 0 using fancy indexing!"
   ]
  },
  {
   "cell_type": "code",
   "execution_count": 38,
   "metadata": {},
   "outputs": [
    {
     "data": {
      "text/plain": [
       "array([ 1,  0,  3,  4,  5,  0,  7,  8,  9, 10, 11, 12, 13, 14, 15, 16, 17,\n",
       "       18, 19,  0])"
      ]
     },
     "execution_count": 38,
     "metadata": {},
     "output_type": "execute_result"
    }
   ],
   "source": [
    "vec = np.arange(1, 21, 1)\n",
    "# a)\n",
    "smaller = vec[(vec < 10)]\n",
    "# b)\n",
    "vec[[1, 5, 19]] = 0\n",
    "\n",
    "smaller\n",
    "vec"
   ]
  }
 ],
 "metadata": {
  "kernelspec": {
   "display_name": "Python 3.11.0 64-bit ('3.11.0')",
   "language": "python",
   "name": "python3"
  },
  "language_info": {
   "codemirror_mode": {
    "name": "ipython",
    "version": 3
   },
   "file_extension": ".py",
   "mimetype": "text/x-python",
   "name": "python",
   "nbconvert_exporter": "python",
   "pygments_lexer": "ipython3",
   "version": "3.11.0 (main, Nov  7 2022, 14:50:35) [Clang 14.0.0 (clang-1400.0.29.202)]"
  },
  "orig_nbformat": 4,
  "vscode": {
   "interpreter": {
    "hash": "0fca71db0846ed8da79651cc37ae136c353db3e2c5a5b78df660c892d8bb501f"
   }
  }
 },
 "nbformat": 4,
 "nbformat_minor": 2
}
